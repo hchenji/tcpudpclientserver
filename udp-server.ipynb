{
 "cells": [
  {
   "cell_type": "code",
   "execution_count": null,
   "metadata": {},
   "outputs": [],
   "source": [
    "from socket import *\n",
    "serverPort = 12123\n",
    "\n",
    "# serverSocket = a data structure - socket\n",
    "serverSocket = socket(AF_INET, SOCK_DGRAM) # UDP socket, API to the OS\n",
    "\n",
    "# start listening on this port\n",
    "serverSocket.bind(('', serverPort))\n",
    "\n",
    "print(\"The server is ready to receive\")\n",
    "\n",
    "# infinite loop, keep checking for msgs\n",
    "while 1:\n",
    "\t# call the recvFrom function, blocking call\n",
    "\tmessage, clientAddress = serverSocket.recvfrom(2048)\n",
    "\t# get the contents of the message, convert it to upper\n",
    "\tmodifiedMessage = message.upper()\n",
    "\t# reply using the same socket, call sendto() function\n",
    "\tserverSocket.sendto(modifiedMessage, clientAddress)"
   ]
  }
 ],
 "metadata": {
  "kernelspec": {
   "display_name": "Python 3",
   "language": "python",
   "name": "python3"
  },
  "language_info": {
   "name": "python",
   "version": "3.7.9"
  },
  "orig_nbformat": 4,
  "vscode": {
   "interpreter": {
    "hash": "941d79657edcdac07b1c63d0df974c5e1b682014a17912aa61fe83a9e7f46491"
   }
  }
 },
 "nbformat": 4,
 "nbformat_minor": 2
}
