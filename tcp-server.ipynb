{
 "cells": [
  {
   "cell_type": "code",
   "execution_count": null,
   "metadata": {},
   "outputs": [],
   "source": [
    "from socket import *\n",
    "serverPort = 12123\n",
    "serverSocket = socket(AF_INET, SOCK_STREAM)\n",
    "serverSocket.setsockopt(SOL_SOCKET, SO_REUSEADDR, 1)\n",
    "serverSocket.bind(('',serverPort))\n",
    "serverSocket.listen(1)\n",
    "print(\"The TCP server is ready to receive\")\n",
    "\n",
    "while True:\n",
    "\t\t# blocking call, listens for connections\n",
    "     connectionSocket, addr = serverSocket.accept()\n",
    "\n",
    "     sentence = connectionSocket.recv(1024)\n",
    "     capitalizedSentence = sentence.upper()\n",
    "     connectionSocket.send(capitalizedSentence)\n",
    "     connectionSocket.close()\n"
   ]
  }
 ],
 "metadata": {
  "kernelspec": {
   "display_name": "Python 3",
   "language": "python",
   "name": "python3"
  },
  "language_info": {
   "name": "python",
   "version": "3.7.9"
  },
  "orig_nbformat": 4,
  "vscode": {
   "interpreter": {
    "hash": "941d79657edcdac07b1c63d0df974c5e1b682014a17912aa61fe83a9e7f46491"
   }
  }
 },
 "nbformat": 4,
 "nbformat_minor": 2
}
