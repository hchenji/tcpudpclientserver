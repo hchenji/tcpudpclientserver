{
 "cells": [
  {
   "cell_type": "code",
   "execution_count": null,
   "metadata": {},
   "outputs": [],
   "source": [
    "from socket import *\n",
    "serverName = 'localhost'\n",
    "serverPort = 12123\n",
    "\n",
    "# create a socket, do NOT bind since not a server\n",
    "clientSocket = socket(AF_INET, SOCK_DGRAM)\n",
    "\n",
    "#  ask for input\n",
    "message = input('Input lowercase sentence: ')\n",
    "\n",
    "# send to the server\n",
    "clientSocket.sendto(message.encode(), (serverName, serverPort))\n",
    "\n",
    "# wait for the response\n",
    "modifiedMessage, serverAddress = clientSocket.recvfrom(2048)\n",
    "\n",
    "# print the reply\n",
    "print(modifiedMessage)\n",
    "\n",
    "# give back the resources\n",
    "clientSocket.close()"
   ]
  }
 ],
 "metadata": {
  "kernelspec": {
   "display_name": "Python 3",
   "language": "python",
   "name": "python3"
  },
  "language_info": {
   "name": "python",
   "version": "3.7.9"
  },
  "orig_nbformat": 4,
  "vscode": {
   "interpreter": {
    "hash": "941d79657edcdac07b1c63d0df974c5e1b682014a17912aa61fe83a9e7f46491"
   }
  }
 },
 "nbformat": 4,
 "nbformat_minor": 2
}
