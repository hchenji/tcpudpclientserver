{
 "cells": [
  {
   "cell_type": "code",
   "execution_count": null,
   "metadata": {},
   "outputs": [],
   "source": [
    "from socket import *\n",
    "serverName = 'localhost'\n",
    "serverPort = 12123\n",
    "clientSocket = socket(AF_INET, SOCK_STREAM)\n",
    "clientSocket.connect((serverName,serverPort))\n",
    "sentence = input('Input lowercase sentence: ')\n",
    "clientSocket.send(sentence.encode())\n",
    "modifiedSentence = clientSocket.recv(1024)\n",
    "print('From Server: ', modifiedSentence)\n",
    "clientSocket.close()\n"
   ]
  }
 ],
 "metadata": {
  "kernelspec": {
   "display_name": "Python 3",
   "language": "python",
   "name": "python3"
  },
  "language_info": {
   "name": "python",
   "version": "3.7.9"
  },
  "orig_nbformat": 4,
  "vscode": {
   "interpreter": {
    "hash": "941d79657edcdac07b1c63d0df974c5e1b682014a17912aa61fe83a9e7f46491"
   }
  }
 },
 "nbformat": 4,
 "nbformat_minor": 2
}
